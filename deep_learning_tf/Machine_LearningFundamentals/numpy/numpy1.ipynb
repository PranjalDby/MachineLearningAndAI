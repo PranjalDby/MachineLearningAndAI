{
 "cells": [
  {
   "cell_type": "code",
   "execution_count": 2,
   "id": "d79276c0",
   "metadata": {},
   "outputs": [
    {
     "data": {
      "text/plain": [
       "array([ 0,  1,  2,  3,  4,  5,  6,  7,  8,  9, 10, 11, 12, 13, 14, 15, 16,\n",
       "       17, 18, 19, 20, 21, 22, 23, 24, 25, 26, 27, 28, 29, 30, 31, 32, 33,\n",
       "       34, 35, 36, 37, 38, 39, 40, 41, 42, 43, 44, 45, 46, 47, 48, 49, 50,\n",
       "       51, 52, 53, 54, 55, 56, 57, 58, 59, 60, 61, 62, 63, 64, 65, 66, 67,\n",
       "       68, 69, 70, 71, 72, 73, 74, 75, 76, 77, 78, 79, 80, 81, 82, 83, 84,\n",
       "       85, 86, 87, 88, 89, 90, 91, 92, 93, 94, 95, 96, 97, 98, 99])"
      ]
     },
     "execution_count": 2,
     "metadata": {},
     "output_type": "execute_result"
    }
   ],
   "source": [
    "import numpy as np\n",
    "\n",
    "\n",
    "## some important array functions\n",
    "# np.array() # any python sequences to the numpy array object\n",
    "\n",
    "np.array([10,20,304,2023,100],dtype=np.int64)\n",
    "#np.arange() # create an array with regularly incrementing the values\n",
    "np.arange(100)"
   ]
  },
  {
   "cell_type": "code",
   "execution_count": 9,
   "id": "54110444",
   "metadata": {},
   "outputs": [
    {
     "name": "stdout",
     "output_type": "stream",
     "text": [
      "[[1. 0. 0. 0. 0.]\n",
      " [0. 1. 0. 0. 0.]\n",
      " [0. 0. 1. 0. 0.]]\n",
      "np.diag = \n",
      "[[1 0 0]\n",
      " [0 2 0]\n",
      " [0 0 4]]\n",
      "np.vander = \n",
      "[[ 1  1  1]\n",
      " [ 4  2  1]\n",
      " [ 9  3  1]\n",
      " [16  4  1]\n",
      " [25  5  1]\n",
      " [36  6  1]]\n"
     ]
    }
   ],
   "source": [
    "# creating the 2D matrix using np.eye,np.diag and np.vander\n",
    "\n",
    "# creating an identity matrix\n",
    "\n",
    "print(np.eye(3,5)) # rows and columns index elements are 1 else 0\n",
    "\n",
    "print(\"np.diag = \")\n",
    "print(np.diag([1,2,4]))# putting the elements in diagonal and rests are zero\n",
    "\n",
    "# vanderMonde matrix: it is 2D matrix where each columns of this matrix is decreasing power of the input 1D arrayt or list or tuple x, where the highest polynomial order is n-1\n",
    "print(\"np.vander = \")\n",
    "print(np.vander([1,2,3,4,5,6],3))\n"
   ]
  },
  {
   "cell_type": "code",
   "execution_count": 17,
   "id": "6ec00354",
   "metadata": {},
   "outputs": [
    {
     "name": "stdout",
     "output_type": "stream",
     "text": [
      "[[1. 1. 1.]\n",
      " [1. 1. 1.]]\n",
      "creating a 2D array with random values.....\n",
      "[[ 0.75925282 -0.90957794 -1.09132772  0.0329365  -0.79942606]\n",
      " [ 0.96157466  2.77051237 -1.47503964  0.18657141  1.06301892]]\n"
     ]
    }
   ],
   "source": [
    "# general ndarray creation function\n",
    "# the functions are np.ones,np.zeros and random\n",
    "\n",
    "print(np.ones((2,3),dtype=np.float64)) # create 2D array with ones all place\n",
    "\n",
    "print(\"creating a 2D array with random values.....\")\n",
    "print(np.random.randn(10).reshape(2,5).astype(float))"
   ]
  },
  {
   "cell_type": "code",
   "execution_count": null,
   "id": "f635a1e1",
   "metadata": {},
   "outputs": [],
   "source": [
    "# numpy.indices will create a set of arrays(stacked as one higher dimensioned array),one per dimensions with repsreseting variation in that dimensions\n",
    "print(np.indices((3,3)))"
   ]
  },
  {
   "cell_type": "code",
   "execution_count": null,
   "id": "ebd509ab",
   "metadata": {},
   "outputs": [
    {
     "name": "stdout",
     "output_type": "stream",
     "text": [
      "[50, 102]\n",
      "Does it change int ll =  [1999, 20, 30, 50, 102]\n",
      "Does it change int ll =  [1091, 102]\n",
      "After slicing ll =  [1999, 20, 30, 50, 102]\n",
      "After deeep copy = \n",
      "[1999, 20, 30, 50, 102]\n"
     ]
    }
   ],
   "source": [
    "# replicating and joining or mutating the existing array\n",
    "from copy import deepcopy\n",
    "#light on shallow copy and deep copy\n",
    "ll = [10,20,30,50,102] \n",
    "# creates a shallow copy or we can say that it provides a view and assign a reffrence to the old list. so changes reflects on both\n",
    "ll2 = ll[3:] # it creates the new list and copy the new elements to the list\n",
    "print(ll2)\n",
    "ll2[0] = 1091\n",
    "print(\"Does it change int ll = \" , ll)\n",
    "print(\"Does it change int ll = \" , ll2)\n",
    "print(\"After slicing ll = \",ll)\n",
    "\n",
    "# to create a deep copy u can use copy.deepcopy() method\n",
    "ll2 = deepcopy(ll)\n",
    "ll[0] = 100\n",
    "print(\"After deeep copy = \")\n",
    "print(ll2)"
   ]
  },
  {
   "cell_type": "markdown",
   "id": "751a2190",
   "metadata": {},
   "source": [
    "# Shallow Copy vs Deep Copy in Python\n",
    "\n",
    "## Shallow Copy\n",
    "- Creates a new object but references the original object's elements\n",
    "- Changes to nested objects affect both copies\n",
    "- Created using: `copy()` method, `list()`, `dict()`, or slice operations `[:]`\n",
    "- In NumPy: `view()` method, simple assignment with slicing\n",
    "\n",
    "## Deep Copy\n",
    "- Creates a completely independent clone with all nested objects copied\n",
    "- Changes to nested objects only affect that specific copy\n",
    "- Created using: `copy.deepcopy()` method from the `copy` module\n",
    "- In NumPy: `copy()` method"
   ]
  },
  {
   "cell_type": "code",
   "execution_count": null,
   "id": "2ecc32ed",
   "metadata": {},
   "outputs": [],
   "source": []
  }
 ],
 "metadata": {
  "kernelspec": {
   "display_name": "deep_ml",
   "language": "python",
   "name": "python3"
  },
  "language_info": {
   "codemirror_mode": {
    "name": "ipython",
    "version": 3
   },
   "file_extension": ".py",
   "mimetype": "text/x-python",
   "name": "python",
   "nbconvert_exporter": "python",
   "pygments_lexer": "ipython3",
   "version": "3.12.11"
  }
 },
 "nbformat": 4,
 "nbformat_minor": 5
}
